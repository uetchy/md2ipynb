#!/usr/bin/env node

const fs = require('fs')
const md2ipynb = require('md2ipynb')

const input = process.argv[2]
if (input === undefined) {
  console.log('Usage: md2ipynb <input.md>')
  process.exit()
}

const markdown = fs.readFileSync(input, 'utf-8')
const result = md2ipynb(markdown)

console.log(result)
